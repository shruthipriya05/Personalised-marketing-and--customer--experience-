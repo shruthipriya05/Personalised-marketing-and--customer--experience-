{
  "nbformat": 4,
  "nbformat_minor": 0,
  "metadata": {
    "colab": {
      "provenance": [],
      "authorship_tag": "ABX9TyPY3T1034ix5IQr8VS2hJGs",
      "include_colab_link": true
    },
    "kernelspec": {
      "name": "python3",
      "display_name": "Python 3"
    },
    "language_info": {
      "name": "python"
    }
  },
  "cells": [
    {
      "cell_type": "markdown",
      "metadata": {
        "id": "view-in-github",
        "colab_type": "text"
      },
      "source": [
        "<a href=\"https://colab.research.google.com/github/shruthipriya05/Personalised-marketing-and--customer--experience-/blob/main/Personalised_marketing_and_customer_experience.ipynb\" target=\"_parent\"><img src=\"https://colab.research.google.com/assets/colab-badge.svg\" alt=\"Open In Colab\"/></a>"
      ]
    },
    {
      "cell_type": "code",
      "execution_count": null,
      "metadata": {
        "id": "LEJ-U43vpDrh"
      },
      "outputs": [],
      "source": [
        "# Required Libraries\n",
        "import random\n",
        "\n",
        "# User Segmentation\n",
        "def segment_user(user_data):\n",
        "    if user_data['value'] == 'High':\n",
        "        return 'High-value'\n",
        "    elif user_data['value'] == 'Medium':\n",
        "        return 'Medium-value'\n",
        "    else:\n",
        "        return 'Low-value'\n",
        "\n",
        "# Mock ML Model Prediction Function\n",
        "def ml_model_predict(user_id):\n",
        "    # Simulate product recommendations\n",
        "    recommendations = {\n",
        "        1: ['Smartphone', 'Wireless Earbuds'],\n",
        "        2: ['Book', 'Pen Drive'],\n",
        "        3: ['Notebook', 'Backpack']\n",
        "    }\n",
        "    return recommendations.get(user_id, ['Generic Product'])\n",
        "\n",
        "# Recommendation Engine\n",
        "def recommend_products(user_id, user_profile):\n",
        "    predicted_items = ml_model_predict(user_id)\n",
        "    return {\n",
        "        \"user_profile\": user_profile,\n",
        "        \"recommendations\": predicted_items\n",
        "    }\n",
        "\n",
        "# Real-Time Adaptation Simulation\n",
        "def update_offers(user_action):\n",
        "    # Simulate fetching updated offers based on user action\n",
        "    print(f\"User Action: {user_action}\")\n",
        "    if user_action == 'clicked_offer':\n",
        "        return \"Show similar trending offers\"\n",
        "    elif user_action == 'purchased':\n",
        "        return \"Send thank you message & complementary offers\"\n",
        "    else:\n",
        "        return \"Display popular recommendations\"\n",
        "\n",
        "# Example Usage\n",
        "if __name__ == \"__main__\":\n",
        "    user_data = {'value': random.choice(['High', 'Medium', 'Low'])}\n",
        "    user_id = random.choice([1, 2, 3])\n",
        "    user_segment = segment_user(user_data)\n",
        "    print(\"User Segment:\", user_segment)\n",
        "\n",
        "    recommendations = recommend_products(user_id, user_segment)\n",
        "    print(\"Recommendations:\", recommendations)\n",
        "\n",
        "    action_response = update_offers('clicked_offer')\n",
        "    print(\"Real-time Adaptation:\", action_response)"
      ]
    }
  ]
}